{
  "nbformat": 4,
  "nbformat_minor": 0,
  "metadata": {
    "colab": {
      "provenance": [],
      "collapsed_sections": [],
      "authorship_tag": "ABX9TyP8hd319i4ncUvBPBJUxoNI",
      "include_colab_link": true
    },
    "kernelspec": {
      "name": "python3",
      "display_name": "Python 3"
    },
    "language_info": {
      "name": "python"
    }
  },
  "cells": [
    {
      "cell_type": "markdown",
      "metadata": {
        "id": "view-in-github",
        "colab_type": "text"
      },
      "source": [
        "<a href=\"https://colab.research.google.com/github/mohammedhelalu/Emploees/blob/master/functions_mm.ipynb\" target=\"_parent\"><img src=\"https://colab.research.google.com/assets/colab-badge.svg\" alt=\"Open In Colab\"/></a>"
      ]
    },
    {
      "cell_type": "code",
      "execution_count": 4,
      "metadata": {
        "id": "fnLTkoE0355b"
      },
      "outputs": [],
      "source": [
        " import numpy as np"
      ]
    },
    {
      "cell_type": "code",
      "source": [
        "myarray=[0.11,2.55,4.88,6.34]"
      ],
      "metadata": {
        "id": "inTwed21RhWc"
      },
      "execution_count": 5,
      "outputs": []
    },
    {
      "cell_type": "code",
      "source": [
        "myarray"
      ],
      "metadata": {
        "colab": {
          "base_uri": "https://localhost:8080/"
        },
        "id": "pVV5fW5dSeBA",
        "outputId": "13d88e35-5174-4c73-99a5-e62415077bfb"
      },
      "execution_count": 6,
      "outputs": [
        {
          "output_type": "execute_result",
          "data": {
            "text/plain": [
              "[0.11, 2.55, 4.88, 6.34]"
            ]
          },
          "metadata": {},
          "execution_count": 6
        }
      ]
    },
    {
      "cell_type": "code",
      "source": [
        "myarray2=np.ceil(myarray)"
      ],
      "metadata": {
        "id": "nPj96KX8Shdz"
      },
      "execution_count": 7,
      "outputs": []
    },
    {
      "cell_type": "code",
      "source": [
        "myarray2"
      ],
      "metadata": {
        "colab": {
          "base_uri": "https://localhost:8080/"
        },
        "id": "NXdqnBSOTdCG",
        "outputId": "b0c821cb-89c4-41f8-90e1-ede6b9e690a9"
      },
      "execution_count": 8,
      "outputs": [
        {
          "output_type": "execute_result",
          "data": {
            "text/plain": [
              "array([1., 3., 5., 7.])"
            ]
          },
          "metadata": {},
          "execution_count": 8
        }
      ]
    },
    {
      "cell_type": "code",
      "source": [
        "myarray3=[100.2,32.0095,54.18,77.34]"
      ],
      "metadata": {
        "id": "HKgZ6lwqTj1j"
      },
      "execution_count": 9,
      "outputs": []
    },
    {
      "cell_type": "code",
      "source": [
        "myarray3"
      ],
      "metadata": {
        "colab": {
          "base_uri": "https://localhost:8080/"
        },
        "id": "hvC_isqEUhxr",
        "outputId": "d8924a5f-375d-4551-f601-41f135ff5007"
      },
      "execution_count": 10,
      "outputs": [
        {
          "output_type": "execute_result",
          "data": {
            "text/plain": [
              "[100.2, 32.0095, 54.18, 77.34]"
            ]
          },
          "metadata": {},
          "execution_count": 10
        }
      ]
    },
    {
      "cell_type": "code",
      "source": [
        "myarray4=np.ceil(myarray3)"
      ],
      "metadata": {
        "id": "_0wBtw5xUs92"
      },
      "execution_count": 11,
      "outputs": []
    },
    {
      "cell_type": "code",
      "source": [
        "myarray4"
      ],
      "metadata": {
        "colab": {
          "base_uri": "https://localhost:8080/"
        },
        "id": "gsflQ-f8VJIJ",
        "outputId": "7fbbf7bd-c76c-404d-9d68-ab89a901a552"
      },
      "execution_count": 12,
      "outputs": [
        {
          "output_type": "execute_result",
          "data": {
            "text/plain": [
              "array([101.,  33.,  55.,  78.])"
            ]
          },
          "metadata": {},
          "execution_count": 12
        }
      ]
    },
    {
      "cell_type": "code",
      "source": [
        "myarray5=[10.2,3.95,4.18,7.34]"
      ],
      "metadata": {
        "id": "HeBaSIiFVNpn"
      },
      "execution_count": 13,
      "outputs": []
    },
    {
      "cell_type": "code",
      "source": [
        "myarray6=np.fix(myarray5)"
      ],
      "metadata": {
        "id": "7eAfpEbfWH7U"
      },
      "execution_count": 14,
      "outputs": []
    },
    {
      "cell_type": "code",
      "source": [
        "myarray6"
      ],
      "metadata": {
        "colab": {
          "base_uri": "https://localhost:8080/"
        },
        "id": "Os1eac14WR4L",
        "outputId": "c215f519-98c2-4bff-90e6-5021340fa91c"
      },
      "execution_count": 15,
      "outputs": [
        {
          "output_type": "execute_result",
          "data": {
            "text/plain": [
              "array([10.,  3.,  4.,  7.])"
            ]
          },
          "metadata": {},
          "execution_count": 15
        }
      ]
    },
    {
      "cell_type": "code",
      "source": [
        "myarray7=np.floor(myarray5)"
      ],
      "metadata": {
        "id": "UnOdqiYRWWjk"
      },
      "execution_count": 16,
      "outputs": []
    },
    {
      "cell_type": "code",
      "source": [
        "myarray7"
      ],
      "metadata": {
        "colab": {
          "base_uri": "https://localhost:8080/"
        },
        "id": "ydCepyumXT6s",
        "outputId": "9f699739-ad59-4973-8a4a-de7c8edabbaf"
      },
      "execution_count": 17,
      "outputs": [
        {
          "output_type": "execute_result",
          "data": {
            "text/plain": [
              "array([10.,  3.,  4.,  7.])"
            ]
          },
          "metadata": {},
          "execution_count": 17
        }
      ]
    },
    {
      "cell_type": "code",
      "source": [
        "\n",
        "int_array=[10.6,3.95,4.68,7.884]"
      ],
      "metadata": {
        "id": "XLlCr7jZXXS6"
      },
      "execution_count": 18,
      "outputs": []
    },
    {
      "cell_type": "code",
      "source": [
        "int_array2=[10.2,3.45,4.18,7.34]"
      ],
      "metadata": {
        "id": "4CoqgJuw7tPE"
      },
      "execution_count": 19,
      "outputs": []
    },
    {
      "cell_type": "code",
      "source": [
        "myarray_total=np.rint(int_array)"
      ],
      "metadata": {
        "id": "riTL-Yp28C-1"
      },
      "execution_count": 21,
      "outputs": []
    },
    {
      "cell_type": "code",
      "source": [
        "myarray_total2=np.rint(int_array2)"
      ],
      "metadata": {
        "id": "IVynap2j8dO6"
      },
      "execution_count": 22,
      "outputs": []
    },
    {
      "cell_type": "code",
      "source": [
        "int_array\n",
        "myarray_total\n"
      ],
      "metadata": {
        "colab": {
          "base_uri": "https://localhost:8080/"
        },
        "id": "c_maWGmg8yPE",
        "outputId": "d336c8f1-5260-486d-efc0-d0ae71db41c2"
      },
      "execution_count": 23,
      "outputs": [
        {
          "output_type": "execute_result",
          "data": {
            "text/plain": [
              "array([11.,  4.,  5.,  8.])"
            ]
          },
          "metadata": {},
          "execution_count": 23
        }
      ]
    },
    {
      "cell_type": "code",
      "source": [
        "int_array2\n",
        "myarray_total2"
      ],
      "metadata": {
        "colab": {
          "base_uri": "https://localhost:8080/"
        },
        "id": "BFMXBXgY9UOy",
        "outputId": "57099a4f-b3eb-4601-8f93-738de3a10814"
      },
      "execution_count": 24,
      "outputs": [
        {
          "output_type": "execute_result",
          "data": {
            "text/plain": [
              "array([10.,  3.,  4.,  7.])"
            ]
          },
          "metadata": {},
          "execution_count": 24
        }
      ]
    },
    {
      "cell_type": "code",
      "source": [],
      "metadata": {
        "id": "HKA6rDLO9hPe"
      },
      "execution_count": null,
      "outputs": []
    }
  ]
}