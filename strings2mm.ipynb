{
  "nbformat": 4,
  "nbformat_minor": 0,
  "metadata": {
    "colab": {
      "provenance": [],
      "collapsed_sections": [],
      "authorship_tag": "ABX9TyNI/nF5qb9MUW3c1BQBxVAe",
      "include_colab_link": true
    },
    "kernelspec": {
      "name": "python3",
      "display_name": "Python 3"
    },
    "language_info": {
      "name": "python"
    }
  },
  "cells": [
    {
      "cell_type": "markdown",
      "metadata": {
        "id": "view-in-github",
        "colab_type": "text"
      },
      "source": [
        "<a href=\"https://colab.research.google.com/github/mohammedhelalu/Emploees/blob/master/strings2mm.ipynb\" target=\"_parent\"><img src=\"https://colab.research.google.com/assets/colab-badge.svg\" alt=\"Open In Colab\"/></a>"
      ]
    },
    {
      "cell_type": "code",
      "execution_count": 29,
      "metadata": {
        "id": "gRTpEShVNct9"
      },
      "outputs": [],
      "source": [
        "import numpy as np"
      ]
    },
    {
      "cell_type": "code",
      "source": [
        "a=np.char.add([\"mohammed\",\"ahmed\"],[\"abdelghany\",\"helal\"])"
      ],
      "metadata": {
        "id": "9_tNjxM5NqDp"
      },
      "execution_count": 30,
      "outputs": []
    },
    {
      "cell_type": "code",
      "source": [
        "print(a)"
      ],
      "metadata": {
        "colab": {
          "base_uri": "https://localhost:8080/"
        },
        "id": "APrSi26dOoDf",
        "outputId": "5c97c279-a59c-4dfc-8ff0-ccb8f8d6e570"
      },
      "execution_count": 31,
      "outputs": [
        {
          "output_type": "stream",
          "name": "stdout",
          "text": [
            "['mohammedabdelghany' 'ahmedhelal']\n"
          ]
        }
      ]
    },
    {
      "cell_type": "code",
      "source": [
        "b=np.char.multiply([\"mohammed\"],4)"
      ],
      "metadata": {
        "id": "JwmSBdacPHBK"
      },
      "execution_count": 32,
      "outputs": []
    },
    {
      "cell_type": "code",
      "source": [
        "print(b)"
      ],
      "metadata": {
        "colab": {
          "base_uri": "https://localhost:8080/"
        },
        "id": "zytqCiLQP-Ha",
        "outputId": "09e52473-7ae9-4532-c84b-7749d443ebe2"
      },
      "execution_count": 33,
      "outputs": [
        {
          "output_type": "stream",
          "name": "stdout",
          "text": [
            "['mohammedmohammedmohammedmohammed']\n"
          ]
        }
      ]
    },
    {
      "cell_type": "code",
      "source": [
        "c=np.char.capitalize(\"mohammed\")"
      ],
      "metadata": {
        "id": "50ITxoUnQNwN"
      },
      "execution_count": 34,
      "outputs": []
    },
    {
      "cell_type": "code",
      "source": [
        "print(c)"
      ],
      "metadata": {
        "colab": {
          "base_uri": "https://localhost:8080/"
        },
        "id": "2DHmnhF0Q-Vi",
        "outputId": "160e9f72-3af3-4a9a-8628-9a2bb86457e6"
      },
      "execution_count": 35,
      "outputs": [
        {
          "output_type": "stream",
          "name": "stdout",
          "text": [
            "Mohammed\n"
          ]
        }
      ]
    },
    {
      "cell_type": "code",
      "source": [
        "d=np.char.title(\"mohammed hela\")"
      ],
      "metadata": {
        "id": "7atzHNRwRBx8"
      },
      "execution_count": 36,
      "outputs": []
    },
    {
      "cell_type": "code",
      "source": [
        "print(d)"
      ],
      "metadata": {
        "colab": {
          "base_uri": "https://localhost:8080/"
        },
        "id": "47yfrg-ERddh",
        "outputId": "5a391718-c16f-43b6-a4ca-650568b46227"
      },
      "execution_count": 37,
      "outputs": [
        {
          "output_type": "stream",
          "name": "stdout",
          "text": [
            "Mohammed Hela\n"
          ]
        }
      ]
    },
    {
      "cell_type": "code",
      "source": [
        "e=np.char.lower(\"mohammed hela\")"
      ],
      "metadata": {
        "id": "2W0pwv2tRiF4"
      },
      "execution_count": 38,
      "outputs": []
    },
    {
      "cell_type": "code",
      "source": [
        "print(e)"
      ],
      "metadata": {
        "colab": {
          "base_uri": "https://localhost:8080/"
        },
        "id": "I6wil-ARYfMJ",
        "outputId": "8d86cdd5-c255-4f39-f643-2a3451ee1313"
      },
      "execution_count": 39,
      "outputs": [
        {
          "output_type": "stream",
          "name": "stdout",
          "text": [
            "mohammed hela\n"
          ]
        }
      ]
    },
    {
      "cell_type": "code",
      "source": [
        "f=np.char.upper(\"mohammed hela\")"
      ],
      "metadata": {
        "id": "5Y84bgCuYhtT"
      },
      "execution_count": 40,
      "outputs": []
    },
    {
      "cell_type": "code",
      "source": [
        "print(f)"
      ],
      "metadata": {
        "colab": {
          "base_uri": "https://localhost:8080/"
        },
        "id": "uG91dTMDZKM-",
        "outputId": "83bab32c-cb8c-4e6c-eeb0-b5ccfbb8bfda"
      },
      "execution_count": 41,
      "outputs": [
        {
          "output_type": "stream",
          "name": "stdout",
          "text": [
            "MOHAMMED HELA\n"
          ]
        }
      ]
    },
    {
      "cell_type": "code",
      "source": [
        "g=np.char.split(\"mohammed helal said ahmed\",sep=\" \")"
      ],
      "metadata": {
        "id": "K9Xm4m6UZPNY"
      },
      "execution_count": 43,
      "outputs": []
    },
    {
      "cell_type": "code",
      "source": [
        "print(g)"
      ],
      "metadata": {
        "colab": {
          "base_uri": "https://localhost:8080/"
        },
        "id": "aYZHaPO1am-r",
        "outputId": "7b29c837-332c-4c1f-818e-b260c2d36456"
      },
      "execution_count": 44,
      "outputs": [
        {
          "output_type": "stream",
          "name": "stdout",
          "text": [
            "['mohammed', 'helal', 'said', 'ahmed']\n"
          ]
        }
      ]
    },
    {
      "cell_type": "code",
      "source": [
        "print(type(g))"
      ],
      "metadata": {
        "colab": {
          "base_uri": "https://localhost:8080/"
        },
        "id": "luQoTvoqat1T",
        "outputId": "e5009435-5ced-4f0c-8f0d-3330244be480"
      },
      "execution_count": 45,
      "outputs": [
        {
          "output_type": "stream",
          "name": "stdout",
          "text": [
            "<class 'numpy.ndarray'>\n"
          ]
        }
      ]
    },
    {
      "cell_type": "code",
      "source": [
        "h=np.char.join(\"-\",\"mohammed helal said ahmed\")"
      ],
      "metadata": {
        "id": "7bs3Ox9PbKzb"
      },
      "execution_count": 47,
      "outputs": []
    },
    {
      "cell_type": "code",
      "source": [
        "print(h)"
      ],
      "metadata": {
        "colab": {
          "base_uri": "https://localhost:8080/"
        },
        "id": "3rTHJGa6cIyI",
        "outputId": "b8914d79-061a-4ea5-8c9b-b8c54ee58289"
      },
      "execution_count": 49,
      "outputs": [
        {
          "output_type": "stream",
          "name": "stdout",
          "text": [
            "m-o-h-a-m-m-e-d- -h-e-l-a-l- -s-a-i-d- -a-h-m-e-d\n"
          ]
        }
      ]
    },
    {
      "cell_type": "code",
      "source": [
        "mystr=\"mohammed abdel ghany helal\""
      ],
      "metadata": {
        "id": "R10Kq4LRcRlx"
      },
      "execution_count": 50,
      "outputs": []
    },
    {
      "cell_type": "code",
      "source": [
        "print(mystr)"
      ],
      "metadata": {
        "colab": {
          "base_uri": "https://localhost:8080/"
        },
        "id": "BYiw7dgAdUo3",
        "outputId": "0dde6e0c-33ed-44ca-dd7d-7213a92c23fd"
      },
      "execution_count": 51,
      "outputs": [
        {
          "output_type": "stream",
          "name": "stdout",
          "text": [
            "mohammed abdel ghany helal\n"
          ]
        }
      ]
    },
    {
      "cell_type": "code",
      "source": [
        "i=np.char.replace(mystr,\"helal\",\"said\")"
      ],
      "metadata": {
        "id": "kfLlmCmtdZvy"
      },
      "execution_count": 53,
      "outputs": []
    },
    {
      "cell_type": "code",
      "source": [
        "print(i)"
      ],
      "metadata": {
        "colab": {
          "base_uri": "https://localhost:8080/"
        },
        "id": "cV84-qs8dvcw",
        "outputId": "869c23d5-e6da-4b25-b783-11851cafcc5c"
      },
      "execution_count": 54,
      "outputs": [
        {
          "output_type": "stream",
          "name": "stdout",
          "text": [
            "mohammed abdel ghany said\n"
          ]
        }
      ]
    },
    {
      "cell_type": "code",
      "source": [],
      "metadata": {
        "id": "1fbgWDTud-4c"
      },
      "execution_count": null,
      "outputs": []
    }
  ]
}