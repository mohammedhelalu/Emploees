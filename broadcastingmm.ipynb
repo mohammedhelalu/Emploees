{
  "nbformat": 4,
  "nbformat_minor": 0,
  "metadata": {
    "colab": {
      "provenance": [],
      "collapsed_sections": [],
      "authorship_tag": "ABX9TyMWLPOY48TvgMaaUWULcs46",
      "include_colab_link": true
    },
    "kernelspec": {
      "name": "python3",
      "display_name": "Python 3"
    },
    "language_info": {
      "name": "python"
    }
  },
  "cells": [
    {
      "cell_type": "markdown",
      "metadata": {
        "id": "view-in-github",
        "colab_type": "text"
      },
      "source": [
        "<a href=\"https://colab.research.google.com/github/mohammedhelalu/Emploees/blob/master/broadcastingmm.ipynb\" target=\"_parent\"><img src=\"https://colab.research.google.com/assets/colab-badge.svg\" alt=\"Open In Colab\"/></a>"
      ]
    },
    {
      "cell_type": "code",
      "execution_count": 9,
      "metadata": {
        "id": "FAb1T4LBEdbD"
      },
      "outputs": [],
      "source": [
        "import numpy as np"
      ]
    },
    {
      "cell_type": "code",
      "source": [
        "myarray3=np.array([[11,22,33,44,55],[66,77,88,99,100]])"
      ],
      "metadata": {
        "id": "f0bQuBNFE_bs"
      },
      "execution_count": 16,
      "outputs": []
    },
    {
      "cell_type": "code",
      "source": [
        "myarray4=np.array([11,22,33,44,55])"
      ],
      "metadata": {
        "id": "RdDt9CLYFnMP"
      },
      "execution_count": 17,
      "outputs": []
    },
    {
      "cell_type": "code",
      "source": [
        "myarray_total3 = myarray3 + myarray4 "
      ],
      "metadata": {
        "id": "g3xmuYryGRrD"
      },
      "execution_count": 18,
      "outputs": []
    },
    {
      "cell_type": "code",
      "source": [
        "print(myarray_total3)"
      ],
      "metadata": {
        "colab": {
          "base_uri": "https://localhost:8080/"
        },
        "id": "FqkTeNwbGxPG",
        "outputId": "2c62dc49-3fd2-4b41-eb97-ccba1bca854a"
      },
      "execution_count": 19,
      "outputs": [
        {
          "output_type": "stream",
          "name": "stdout",
          "text": [
            "[[ 22  44  66  88 110]\n",
            " [ 77  99 121 143 155]]\n"
          ]
        }
      ]
    },
    {
      "cell_type": "code",
      "source": [
        "myarray_total3 = myarray3 * myarray4 "
      ],
      "metadata": {
        "id": "Drq774B9LB8X"
      },
      "execution_count": 20,
      "outputs": []
    },
    {
      "cell_type": "code",
      "source": [
        "print(myarray_total3)"
      ],
      "metadata": {
        "colab": {
          "base_uri": "https://localhost:8080/"
        },
        "id": "MgyquW8iMBBU",
        "outputId": "41a950bf-887d-42ab-a9f2-8afabbd15216"
      },
      "execution_count": 21,
      "outputs": [
        {
          "output_type": "stream",
          "name": "stdout",
          "text": [
            "[[ 121  484 1089 1936 3025]\n",
            " [ 726 1694 2904 4356 5500]]\n"
          ]
        }
      ]
    },
    {
      "cell_type": "code",
      "source": [],
      "metadata": {
        "id": "9kBw5dG5MJv7"
      },
      "execution_count": null,
      "outputs": []
    }
  ]
}