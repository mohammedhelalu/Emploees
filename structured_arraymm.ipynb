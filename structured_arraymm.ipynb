{
  "nbformat": 4,
  "nbformat_minor": 0,
  "metadata": {
    "colab": {
      "provenance": [],
      "collapsed_sections": [],
      "authorship_tag": "ABX9TyNzXMw2ww/9eOtn9CrYKTNb",
      "include_colab_link": true
    },
    "kernelspec": {
      "name": "python3",
      "display_name": "Python 3"
    },
    "language_info": {
      "name": "python"
    }
  },
  "cells": [
    {
      "cell_type": "markdown",
      "metadata": {
        "id": "view-in-github",
        "colab_type": "text"
      },
      "source": [
        "<a href=\"https://colab.research.google.com/github/mohammedhelalu/Emploees/blob/master/structured_arraymm.ipynb\" target=\"_parent\"><img src=\"https://colab.research.google.com/assets/colab-badge.svg\" alt=\"Open In Colab\"/></a>"
      ]
    },
    {
      "cell_type": "code",
      "execution_count": 37,
      "metadata": {
        "id": "r_aB3uu-zauQ"
      },
      "outputs": [],
      "source": [
        " import numpy as np"
      ]
    },
    {
      "cell_type": "code",
      "source": [
        "employee_info=[(\"name\",\"S10\"),(\"salary\",\"f8\"),(\"age\",\"i8\")]"
      ],
      "metadata": {
        "id": "GRLGOdh650aw"
      },
      "execution_count": 38,
      "outputs": []
    },
    {
      "cell_type": "code",
      "source": [
        "print(employee_info)"
      ],
      "metadata": {
        "colab": {
          "base_uri": "https://localhost:8080/"
        },
        "id": "DcZ3-d-W_ye-",
        "outputId": "44b8576d-bc94-4a83-edcd-b97dae620d0b"
      },
      "execution_count": 39,
      "outputs": [
        {
          "output_type": "stream",
          "name": "stdout",
          "text": [
            "[('name', 'S10'), ('salary', 'f8'), ('age', 'i8')]\n"
          ]
        }
      ]
    },
    {
      "cell_type": "code",
      "source": [
        "emmployees_staff=np.zeros((3),dtype=employee_info)"
      ],
      "metadata": {
        "id": "jM0u2mdVBaFc"
      },
      "execution_count": 40,
      "outputs": []
    },
    {
      "cell_type": "code",
      "source": [
        "print(emmployees_staff)"
      ],
      "metadata": {
        "colab": {
          "base_uri": "https://localhost:8080/"
        },
        "id": "i89AZNS8D_r7",
        "outputId": "70468dba-d900-4479-ff9c-6ca29a199647"
      },
      "execution_count": 41,
      "outputs": [
        {
          "output_type": "stream",
          "name": "stdout",
          "text": [
            "[(b'', 0., 0) (b'', 0., 0) (b'', 0., 0)]\n"
          ]
        }
      ]
    },
    {
      "cell_type": "code",
      "source": [
        "emmployees_staff"
      ],
      "metadata": {
        "colab": {
          "base_uri": "https://localhost:8080/"
        },
        "id": "rXiGPBZgGItA",
        "outputId": "fe15fec6-93c4-4f8f-9831-55e9671e5c05"
      },
      "execution_count": 42,
      "outputs": [
        {
          "output_type": "execute_result",
          "data": {
            "text/plain": [
              "array([(b'', 0., 0), (b'', 0., 0), (b'', 0., 0)],\n",
              "      dtype=[('name', 'S10'), ('salary', '<f8'), ('age', '<i8')])"
            ]
          },
          "metadata": {},
          "execution_count": 42
        }
      ]
    },
    {
      "cell_type": "code",
      "source": [
        "emmployees_staff[1]=(\"mohammed\",6000,52)"
      ],
      "metadata": {
        "id": "dGIJvqacGe0S"
      },
      "execution_count": 43,
      "outputs": []
    },
    {
      "cell_type": "code",
      "source": [
        "emmployees_staff[2]=(\"ahmed\",4000,42)"
      ],
      "metadata": {
        "id": "y78SX1UhHT-s"
      },
      "execution_count": 44,
      "outputs": []
    },
    {
      "cell_type": "code",
      "source": [
        "emmployees_staff"
      ],
      "metadata": {
        "colab": {
          "base_uri": "https://localhost:8080/"
        },
        "id": "6wfmeqBRHliz",
        "outputId": "0691d9c3-7926-4353-8ba4-e128b59f0722"
      },
      "execution_count": 45,
      "outputs": [
        {
          "output_type": "execute_result",
          "data": {
            "text/plain": [
              "array([(b'',    0.,  0), (b'mohammed', 6000., 52), (b'ahmed', 4000., 42)],\n",
              "      dtype=[('name', 'S10'), ('salary', '<f8'), ('age', '<i8')])"
            ]
          },
          "metadata": {},
          "execution_count": 45
        }
      ]
    },
    {
      "cell_type": "code",
      "source": [
        "emmployees_staff[0:]"
      ],
      "metadata": {
        "colab": {
          "base_uri": "https://localhost:8080/"
        },
        "id": "D8A7wkPzHo-Q",
        "outputId": "5bf02df8-82ca-4e38-c471-1720293b26ea"
      },
      "execution_count": 46,
      "outputs": [
        {
          "output_type": "execute_result",
          "data": {
            "text/plain": [
              "array([(b'',    0.,  0), (b'mohammed', 6000., 52), (b'ahmed', 4000., 42)],\n",
              "      dtype=[('name', 'S10'), ('salary', '<f8'), ('age', '<i8')])"
            ]
          },
          "metadata": {},
          "execution_count": 46
        }
      ]
    },
    {
      "cell_type": "code",
      "source": [
        "emmployees_staff[1:]"
      ],
      "metadata": {
        "colab": {
          "base_uri": "https://localhost:8080/"
        },
        "id": "0wCPubQwIilQ",
        "outputId": "86fc2944-2025-45c5-9c5f-2889e9c2e61f"
      },
      "execution_count": 47,
      "outputs": [
        {
          "output_type": "execute_result",
          "data": {
            "text/plain": [
              "array([(b'mohammed', 6000., 52), (b'ahmed', 4000., 42)],\n",
              "      dtype=[('name', 'S10'), ('salary', '<f8'), ('age', '<i8')])"
            ]
          },
          "metadata": {},
          "execution_count": 47
        }
      ]
    },
    {
      "cell_type": "code",
      "source": [
        "salary=emmployees_staff[\"salary\"]"
      ],
      "metadata": {
        "id": "KuhO-lHcJPRY"
      },
      "execution_count": 48,
      "outputs": []
    },
    {
      "cell_type": "code",
      "source": [
        "emmployees_staff[\"age\"]"
      ],
      "metadata": {
        "colab": {
          "base_uri": "https://localhost:8080/"
        },
        "id": "vPF2Q1H5JubP",
        "outputId": "c3413d50-c776-4bf4-ae5e-38a8b0e96ea4"
      },
      "execution_count": 49,
      "outputs": [
        {
          "output_type": "execute_result",
          "data": {
            "text/plain": [
              "array([ 0, 52, 42])"
            ]
          },
          "metadata": {},
          "execution_count": 49
        }
      ]
    },
    {
      "cell_type": "code",
      "source": [
        "add_salary=salary+2000"
      ],
      "metadata": {
        "id": "cpnj0IM9KMWi"
      },
      "execution_count": 50,
      "outputs": []
    },
    {
      "cell_type": "code",
      "source": [
        "add_salary"
      ],
      "metadata": {
        "colab": {
          "base_uri": "https://localhost:8080/"
        },
        "id": "DNzogovwLx6W",
        "outputId": "6809f2d7-a0ab-4ba6-971d-ac2cc622e4fc"
      },
      "execution_count": 51,
      "outputs": [
        {
          "output_type": "execute_result",
          "data": {
            "text/plain": [
              "array([2000., 8000., 6000.])"
            ]
          },
          "metadata": {},
          "execution_count": 51
        }
      ]
    },
    {
      "cell_type": "code",
      "source": [
        "age=emmployees_staff[\"age\"]"
      ],
      "metadata": {
        "id": "yI1ww2UEL4Id"
      },
      "execution_count": 52,
      "outputs": []
    },
    {
      "cell_type": "code",
      "source": [
        "add_age=age+3"
      ],
      "metadata": {
        "id": "B10RqOnVM8Jj"
      },
      "execution_count": 53,
      "outputs": []
    },
    {
      "cell_type": "code",
      "source": [
        "add_age"
      ],
      "metadata": {
        "colab": {
          "base_uri": "https://localhost:8080/"
        },
        "id": "7oz5gTapNDjI",
        "outputId": "2774e857-90e9-4b79-c6f7-49ff134970c6"
      },
      "execution_count": 54,
      "outputs": [
        {
          "output_type": "execute_result",
          "data": {
            "text/plain": [
              "array([ 3, 55, 45])"
            ]
          },
          "metadata": {},
          "execution_count": 54
        }
      ]
    },
    {
      "cell_type": "code",
      "source": [
        "emmployees_staff"
      ],
      "metadata": {
        "colab": {
          "base_uri": "https://localhost:8080/"
        },
        "id": "rJAAa1JkNXd0",
        "outputId": "25377d39-5090-426d-ce03-2060ff354618"
      },
      "execution_count": 55,
      "outputs": [
        {
          "output_type": "execute_result",
          "data": {
            "text/plain": [
              "array([(b'',    0.,  0), (b'mohammed', 6000., 52), (b'ahmed', 4000., 42)],\n",
              "      dtype=[('name', 'S10'), ('salary', '<f8'), ('age', '<i8')])"
            ]
          },
          "metadata": {},
          "execution_count": 55
        }
      ]
    },
    {
      "cell_type": "code",
      "source": [
        "all_employees_staff=np.zeros((4,3,2),dtype=employee_info)"
      ],
      "metadata": {
        "id": "hggMbi7sOJy0"
      },
      "execution_count": 56,
      "outputs": []
    },
    {
      "cell_type": "code",
      "source": [
        "all_employees_staff"
      ],
      "metadata": {
        "colab": {
          "base_uri": "https://localhost:8080/"
        },
        "id": "srko5_5sQPyL",
        "outputId": "b244f9d3-b3be-48bc-ac1a-f3a864d1e41b"
      },
      "execution_count": 57,
      "outputs": [
        {
          "output_type": "execute_result",
          "data": {
            "text/plain": [
              "array([[[(b'', 0., 0), (b'', 0., 0)],\n",
              "        [(b'', 0., 0), (b'', 0., 0)],\n",
              "        [(b'', 0., 0), (b'', 0., 0)]],\n",
              "\n",
              "       [[(b'', 0., 0), (b'', 0., 0)],\n",
              "        [(b'', 0., 0), (b'', 0., 0)],\n",
              "        [(b'', 0., 0), (b'', 0., 0)]],\n",
              "\n",
              "       [[(b'', 0., 0), (b'', 0., 0)],\n",
              "        [(b'', 0., 0), (b'', 0., 0)],\n",
              "        [(b'', 0., 0), (b'', 0., 0)]],\n",
              "\n",
              "       [[(b'', 0., 0), (b'', 0., 0)],\n",
              "        [(b'', 0., 0), (b'', 0., 0)],\n",
              "        [(b'', 0., 0), (b'', 0., 0)]]],\n",
              "      dtype=[('name', 'S10'), ('salary', '<f8'), ('age', '<i8')])"
            ]
          },
          "metadata": {},
          "execution_count": 57
        }
      ]
    },
    {
      "cell_type": "code",
      "source": [
        "all_employees_staff[\"name\"]"
      ],
      "metadata": {
        "colab": {
          "base_uri": "https://localhost:8080/"
        },
        "id": "APNHgLHYQXBh",
        "outputId": "efe1922b-6d3a-4d49-8d43-6210041d46b2"
      },
      "execution_count": 58,
      "outputs": [
        {
          "output_type": "execute_result",
          "data": {
            "text/plain": [
              "array([[[b'', b''],\n",
              "        [b'', b''],\n",
              "        [b'', b'']],\n",
              "\n",
              "       [[b'', b''],\n",
              "        [b'', b''],\n",
              "        [b'', b'']],\n",
              "\n",
              "       [[b'', b''],\n",
              "        [b'', b''],\n",
              "        [b'', b'']],\n",
              "\n",
              "       [[b'', b''],\n",
              "        [b'', b''],\n",
              "        [b'', b'']]], dtype='|S10')"
            ]
          },
          "metadata": {},
          "execution_count": 58
        }
      ]
    },
    {
      "cell_type": "code",
      "source": [
        "all_employees_staff[\"age\"]"
      ],
      "metadata": {
        "colab": {
          "base_uri": "https://localhost:8080/"
        },
        "id": "1rgmKW0ORm7Q",
        "outputId": "b30aa174-f835-460b-accd-fd76dd55c157"
      },
      "execution_count": 59,
      "outputs": [
        {
          "output_type": "execute_result",
          "data": {
            "text/plain": [
              "array([[[0, 0],\n",
              "        [0, 0],\n",
              "        [0, 0]],\n",
              "\n",
              "       [[0, 0],\n",
              "        [0, 0],\n",
              "        [0, 0]],\n",
              "\n",
              "       [[0, 0],\n",
              "        [0, 0],\n",
              "        [0, 0]],\n",
              "\n",
              "       [[0, 0],\n",
              "        [0, 0],\n",
              "        [0, 0]]])"
            ]
          },
          "metadata": {},
          "execution_count": 59
        }
      ]
    },
    {
      "cell_type": "code",
      "source": [
        "all_employees_staff[\"salary\"]"
      ],
      "metadata": {
        "colab": {
          "base_uri": "https://localhost:8080/"
        },
        "id": "XgfwS-qTSBhs",
        "outputId": "5bdf9615-8813-4d4e-fbf5-6fb8e5b639ec"
      },
      "execution_count": 60,
      "outputs": [
        {
          "output_type": "execute_result",
          "data": {
            "text/plain": [
              "array([[[0., 0.],\n",
              "        [0., 0.],\n",
              "        [0., 0.]],\n",
              "\n",
              "       [[0., 0.],\n",
              "        [0., 0.],\n",
              "        [0., 0.]],\n",
              "\n",
              "       [[0., 0.],\n",
              "        [0., 0.],\n",
              "        [0., 0.]],\n",
              "\n",
              "       [[0., 0.],\n",
              "        [0., 0.],\n",
              "        [0., 0.]]])"
            ]
          },
          "metadata": {},
          "execution_count": 60
        }
      ]
    },
    {
      "cell_type": "code",
      "source": [
        "all_employees_staff[0,0,1]=(\"mohammed\",5000,54)"
      ],
      "metadata": {
        "id": "AvHphG1qSRQv"
      },
      "execution_count": 61,
      "outputs": []
    },
    {
      "cell_type": "code",
      "source": [
        "all_employees_staff"
      ],
      "metadata": {
        "colab": {
          "base_uri": "https://localhost:8080/"
        },
        "id": "h-9nJpBCTa_l",
        "outputId": "07aa5c8e-afe1-4476-9878-e652afc38681"
      },
      "execution_count": 62,
      "outputs": [
        {
          "output_type": "execute_result",
          "data": {
            "text/plain": [
              "array([[[(b'',    0.,  0), (b'mohammed', 5000., 54)],\n",
              "        [(b'',    0.,  0), (b'',    0.,  0)],\n",
              "        [(b'',    0.,  0), (b'',    0.,  0)]],\n",
              "\n",
              "       [[(b'',    0.,  0), (b'',    0.,  0)],\n",
              "        [(b'',    0.,  0), (b'',    0.,  0)],\n",
              "        [(b'',    0.,  0), (b'',    0.,  0)]],\n",
              "\n",
              "       [[(b'',    0.,  0), (b'',    0.,  0)],\n",
              "        [(b'',    0.,  0), (b'',    0.,  0)],\n",
              "        [(b'',    0.,  0), (b'',    0.,  0)]],\n",
              "\n",
              "       [[(b'',    0.,  0), (b'',    0.,  0)],\n",
              "        [(b'',    0.,  0), (b'',    0.,  0)],\n",
              "        [(b'',    0.,  0), (b'',    0.,  0)]]],\n",
              "      dtype=[('name', 'S10'), ('salary', '<f8'), ('age', '<i8')])"
            ]
          },
          "metadata": {},
          "execution_count": 62
        }
      ]
    },
    {
      "cell_type": "code",
      "source": [
        "all_employees_staff[1,1,0]=(\"Helal\",4000,44)"
      ],
      "metadata": {
        "id": "4fceC8RrZNzU"
      },
      "execution_count": 63,
      "outputs": []
    },
    {
      "cell_type": "code",
      "source": [
        "all_employees_staff"
      ],
      "metadata": {
        "colab": {
          "base_uri": "https://localhost:8080/"
        },
        "id": "vN9AoEdnxqcI",
        "outputId": "0106aaa9-0f66-49c6-c5ad-3e9fde9fbaca"
      },
      "execution_count": 64,
      "outputs": [
        {
          "output_type": "execute_result",
          "data": {
            "text/plain": [
              "array([[[(b'',    0.,  0), (b'mohammed', 5000., 54)],\n",
              "        [(b'',    0.,  0), (b'',    0.,  0)],\n",
              "        [(b'',    0.,  0), (b'',    0.,  0)]],\n",
              "\n",
              "       [[(b'',    0.,  0), (b'',    0.,  0)],\n",
              "        [(b'Helal', 4000., 44), (b'',    0.,  0)],\n",
              "        [(b'',    0.,  0), (b'',    0.,  0)]],\n",
              "\n",
              "       [[(b'',    0.,  0), (b'',    0.,  0)],\n",
              "        [(b'',    0.,  0), (b'',    0.,  0)],\n",
              "        [(b'',    0.,  0), (b'',    0.,  0)]],\n",
              "\n",
              "       [[(b'',    0.,  0), (b'',    0.,  0)],\n",
              "        [(b'',    0.,  0), (b'',    0.,  0)],\n",
              "        [(b'',    0.,  0), (b'',    0.,  0)]]],\n",
              "      dtype=[('name', 'S10'), ('salary', '<f8'), ('age', '<i8')])"
            ]
          },
          "metadata": {},
          "execution_count": 64
        }
      ]
    },
    {
      "cell_type": "code",
      "source": [
        "all_employees_staff[3,2,1]=(\"ahmed\",2000,34)"
      ],
      "metadata": {
        "id": "X_1Qlk0lxvym"
      },
      "execution_count": 65,
      "outputs": []
    },
    {
      "cell_type": "code",
      "source": [
        "all_employees_staff"
      ],
      "metadata": {
        "colab": {
          "base_uri": "https://localhost:8080/"
        },
        "id": "6QelZvxmy9Ms",
        "outputId": "fe231085-4c8e-48de-db34-12d96c70f63c"
      },
      "execution_count": 66,
      "outputs": [
        {
          "output_type": "execute_result",
          "data": {
            "text/plain": [
              "array([[[(b'',    0.,  0), (b'mohammed', 5000., 54)],\n",
              "        [(b'',    0.,  0), (b'',    0.,  0)],\n",
              "        [(b'',    0.,  0), (b'',    0.,  0)]],\n",
              "\n",
              "       [[(b'',    0.,  0), (b'',    0.,  0)],\n",
              "        [(b'Helal', 4000., 44), (b'',    0.,  0)],\n",
              "        [(b'',    0.,  0), (b'',    0.,  0)]],\n",
              "\n",
              "       [[(b'',    0.,  0), (b'',    0.,  0)],\n",
              "        [(b'',    0.,  0), (b'',    0.,  0)],\n",
              "        [(b'',    0.,  0), (b'',    0.,  0)]],\n",
              "\n",
              "       [[(b'',    0.,  0), (b'',    0.,  0)],\n",
              "        [(b'',    0.,  0), (b'',    0.,  0)],\n",
              "        [(b'',    0.,  0), (b'ahmed', 2000., 34)]]],\n",
              "      dtype=[('name', 'S10'), ('salary', '<f8'), ('age', '<i8')])"
            ]
          },
          "metadata": {},
          "execution_count": 66
        }
      ]
    },
    {
      "cell_type": "code",
      "source": [
        "all_employees_staff[\"name\"]"
      ],
      "metadata": {
        "colab": {
          "base_uri": "https://localhost:8080/"
        },
        "id": "kx9fM-LGzFAm",
        "outputId": "c3ac3c68-716a-4a82-d6ba-f3f676e63e5c"
      },
      "execution_count": 68,
      "outputs": [
        {
          "output_type": "execute_result",
          "data": {
            "text/plain": [
              "array([[[b'', b'mohammed'],\n",
              "        [b'', b''],\n",
              "        [b'', b'']],\n",
              "\n",
              "       [[b'', b''],\n",
              "        [b'Helal', b''],\n",
              "        [b'', b'']],\n",
              "\n",
              "       [[b'', b''],\n",
              "        [b'', b''],\n",
              "        [b'', b'']],\n",
              "\n",
              "       [[b'', b''],\n",
              "        [b'', b''],\n",
              "        [b'', b'ahmed']]], dtype='|S10')"
            ]
          },
          "metadata": {},
          "execution_count": 68
        }
      ]
    },
    {
      "cell_type": "code",
      "source": [
        "all_employees_staff[\"salary\"]"
      ],
      "metadata": {
        "colab": {
          "base_uri": "https://localhost:8080/"
        },
        "id": "q7jqx6_p0H3B",
        "outputId": "1348e924-7f96-4f6e-b8fa-eeca8cc5d634"
      },
      "execution_count": 69,
      "outputs": [
        {
          "output_type": "execute_result",
          "data": {
            "text/plain": [
              "array([[[   0., 5000.],\n",
              "        [   0.,    0.],\n",
              "        [   0.,    0.]],\n",
              "\n",
              "       [[   0.,    0.],\n",
              "        [4000.,    0.],\n",
              "        [   0.,    0.]],\n",
              "\n",
              "       [[   0.,    0.],\n",
              "        [   0.,    0.],\n",
              "        [   0.,    0.]],\n",
              "\n",
              "       [[   0.,    0.],\n",
              "        [   0.,    0.],\n",
              "        [   0., 2000.]]])"
            ]
          },
          "metadata": {},
          "execution_count": 69
        }
      ]
    },
    {
      "cell_type": "code",
      "source": [],
      "metadata": {
        "id": "coKabUCT063j"
      },
      "execution_count": null,
      "outputs": []
    },
    {
      "cell_type": "code",
      "source": [
        "all_employees_staff[\"age\"]"
      ],
      "metadata": {
        "colab": {
          "base_uri": "https://localhost:8080/"
        },
        "outputId": "8256665c-c634-46c9-84b5-5399432d2e26",
        "id": "kBOxLg2X1S_L"
      },
      "execution_count": 70,
      "outputs": [
        {
          "output_type": "execute_result",
          "data": {
            "text/plain": [
              "array([[[ 0, 54],\n",
              "        [ 0,  0],\n",
              "        [ 0,  0]],\n",
              "\n",
              "       [[ 0,  0],\n",
              "        [44,  0],\n",
              "        [ 0,  0]],\n",
              "\n",
              "       [[ 0,  0],\n",
              "        [ 0,  0],\n",
              "        [ 0,  0]],\n",
              "\n",
              "       [[ 0,  0],\n",
              "        [ 0,  0],\n",
              "        [ 0, 34]]])"
            ]
          },
          "metadata": {},
          "execution_count": 70
        }
      ]
    },
    {
      "cell_type": "code",
      "source": [
        "all_employees_staff[[\"name\",\"age\"]]"
      ],
      "metadata": {
        "colab": {
          "base_uri": "https://localhost:8080/"
        },
        "id": "j_6WCtVd1Z53",
        "outputId": "6ef5e4ea-17fe-4dcd-84fd-e738d94861da"
      },
      "execution_count": 71,
      "outputs": [
        {
          "output_type": "execute_result",
          "data": {
            "text/plain": [
              "array([[[(b'',  0), (b'mohammed', 54)],\n",
              "        [(b'',  0), (b'',  0)],\n",
              "        [(b'',  0), (b'',  0)]],\n",
              "\n",
              "       [[(b'',  0), (b'',  0)],\n",
              "        [(b'Helal', 44), (b'',  0)],\n",
              "        [(b'',  0), (b'',  0)]],\n",
              "\n",
              "       [[(b'',  0), (b'',  0)],\n",
              "        [(b'',  0), (b'',  0)],\n",
              "        [(b'',  0), (b'',  0)]],\n",
              "\n",
              "       [[(b'',  0), (b'',  0)],\n",
              "        [(b'',  0), (b'',  0)],\n",
              "        [(b'',  0), (b'ahmed', 34)]]],\n",
              "      dtype={'names':['name','age'], 'formats':['S10','<i8'], 'offsets':[0,18], 'itemsize':26})"
            ]
          },
          "metadata": {},
          "execution_count": 71
        }
      ]
    },
    {
      "cell_type": "code",
      "source": [
        "all_employees_staff[[\"name\",\"salary\"]]"
      ],
      "metadata": {
        "colab": {
          "base_uri": "https://localhost:8080/"
        },
        "id": "0LDxGH-A2N3H",
        "outputId": "36d64a77-7b68-4623-b36a-e2c5710adb11"
      },
      "execution_count": 72,
      "outputs": [
        {
          "output_type": "execute_result",
          "data": {
            "text/plain": [
              "array([[[(b'',    0.), (b'mohammed', 5000.)],\n",
              "        [(b'',    0.), (b'',    0.)],\n",
              "        [(b'',    0.), (b'',    0.)]],\n",
              "\n",
              "       [[(b'',    0.), (b'',    0.)],\n",
              "        [(b'Helal', 4000.), (b'',    0.)],\n",
              "        [(b'',    0.), (b'',    0.)]],\n",
              "\n",
              "       [[(b'',    0.), (b'',    0.)],\n",
              "        [(b'',    0.), (b'',    0.)],\n",
              "        [(b'',    0.), (b'',    0.)]],\n",
              "\n",
              "       [[(b'',    0.), (b'',    0.)],\n",
              "        [(b'',    0.), (b'',    0.)],\n",
              "        [(b'',    0.), (b'ahmed', 2000.)]]],\n",
              "      dtype={'names':['name','salary'], 'formats':['S10','<f8'], 'offsets':[0,10], 'itemsize':26})"
            ]
          },
          "metadata": {},
          "execution_count": 72
        }
      ]
    },
    {
      "cell_type": "code",
      "source": [],
      "metadata": {
        "id": "Qeu8igf121zL"
      },
      "execution_count": null,
      "outputs": []
    }
  ]
}